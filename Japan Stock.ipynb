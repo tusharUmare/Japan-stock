{
 "cells": [
  {
   "cell_type": "code",
   "execution_count": 1,
   "id": "95fc245f",
   "metadata": {},
   "outputs": [
    {
     "name": "stderr",
     "output_type": "stream",
     "text": [
      "2025-05-05 18:11:09.648 INFO    numexpr.utils: NumExpr defaulting to 8 threads.\n"
     ]
    }
   ],
   "source": [
    "import streamlit as st\n",
    "import yfinance as yf\n",
    "import pandas as pd\n",
    "import numpy as np\n",
    "from sklearn.ensemble import RandomForestRegressor\n",
    "from sklearn.model_selection import train_test_split\n",
    "from sklearn.preprocessing import StandardScaler\n",
    "from sklearn.metrics import mean_squared_error, r2_score"
   ]
  },
  {
   "cell_type": "code",
   "execution_count": 2,
   "id": "4f13b88d",
   "metadata": {},
   "outputs": [
    {
     "name": "stderr",
     "output_type": "stream",
     "text": [
      "2025-05-05 18:11:18.124 \n",
      "  \u001b[33m\u001b[1mWarning:\u001b[0m to view this Streamlit app on a browser, run it with the following\n",
      "  command:\n",
      "\n",
      "    streamlit run C:\\Users\\tusha\\anaconda3\\lib\\site-packages\\ipykernel_launcher.py [ARGUMENTS]\n"
     ]
    },
    {
     "data": {
      "text/plain": [
       "DeltaGenerator(_root_container=0, _provided_cursor=None, _parent=None, _block_type=None, _form_data=None)"
      ]
     },
     "execution_count": 2,
     "metadata": {},
     "output_type": "execute_result"
    }
   ],
   "source": [
    "st.set_page_config(page_title=\"Tokyo Stock Market Predictor\", layout=\"wide\")\n",
    "st.title(\"📈 Tokyo Stock Market Predictor\")\n",
    "st.markdown(\"Predict future stock prices using machine learning (Random Forest Regressor)\")"
   ]
  },
  {
   "cell_type": "code",
   "execution_count": 3,
   "id": "5bbece37",
   "metadata": {},
   "outputs": [],
   "source": [
    "ticker = st.sidebar.text_input(\"Enter Tokyo Stock Ticker (e.g. 7203.T for Toyota):\", value=\"7203.T\")\n",
    "start_date = st.sidebar.date_input(\"Start Date\", value=pd.to_datetime(\"2015-01-01\"))\n",
    "end_date = st.sidebar.date_input(\"End Date\", value=pd.to_datetime(\"2024-12-31\"))\n"
   ]
  },
  {
   "cell_type": "code",
   "execution_count": 6,
   "id": "9b9087fc",
   "metadata": {},
   "outputs": [
    {
     "name": "stderr",
     "output_type": "stream",
     "text": [
      "[*********************100%***********************]  1 of 1 completed\n"
     ]
    }
   ],
   "source": [
    "def load_data(ticker, start, end):\n",
    "    df = yf.download(ticker, start=start, end=end)\n",
    "    df = df[[\"Open\", \"High\", \"Low\", \"Close\", \"Volume\"]]\n",
    "    df[\"SMA_10\"] = df[\"Close\"].rolling(window=10).mean()\n",
    "    df[\"SMA_50\"] = df[\"Close\"].rolling(window=50).mean()\n",
    "    df[\"Return\"] = df[\"Close\"].pct_change()\n",
    "    df = df.dropna()\n",
    "    return df\n",
    "\n",
    "df = load_data(ticker, start_date, end_date)\n"
   ]
  },
  {
   "cell_type": "code",
   "execution_count": 7,
   "id": "56aadfbd",
   "metadata": {},
   "outputs": [
    {
     "data": {
      "text/plain": [
       "DeltaGenerator(_root_container=0, _provided_cursor=None, _parent=None, _block_type=None, _form_data=None)"
      ]
     },
     "execution_count": 7,
     "metadata": {},
     "output_type": "execute_result"
    }
   ],
   "source": [
    "st.subheader(\" Historical Stock Data\")\n",
    "st.dataframe(df.tail())\n"
   ]
  },
  {
   "cell_type": "code",
   "execution_count": 8,
   "id": "075c06aa",
   "metadata": {},
   "outputs": [],
   "source": [
    "features = [\"Open\", \"High\", \"Low\", \"Volume\", \"SMA_10\", \"SMA_50\", \"Return\"]\n",
    "target = \"Close\"\n",
    "\n",
    "X = df[features]\n",
    "y = df[target]"
   ]
  },
  {
   "cell_type": "code",
   "execution_count": 9,
   "id": "636ea5a8",
   "metadata": {},
   "outputs": [],
   "source": [
    "scaler = StandardScaler()\n",
    "X_scaled = scaler.fit_transform(X)\n"
   ]
  },
  {
   "cell_type": "code",
   "execution_count": 10,
   "id": "018aec50",
   "metadata": {},
   "outputs": [],
   "source": [
    "X_train, X_test, y_train, y_test = train_test_split(X_scaled, y, test_size=0.2, shuffle=False)\n"
   ]
  },
  {
   "cell_type": "code",
   "execution_count": 11,
   "id": "98a37fd0",
   "metadata": {},
   "outputs": [
    {
     "name": "stderr",
     "output_type": "stream",
     "text": [
      "C:\\Users\\tusha\\AppData\\Local\\Temp/ipykernel_36840/650042473.py:2: DataConversionWarning: A column-vector y was passed when a 1d array was expected. Please change the shape of y to (n_samples,), for example using ravel().\n",
      "  model.fit(X_train, y_train)\n"
     ]
    },
    {
     "data": {
      "text/plain": [
       "RandomForestRegressor(random_state=42)"
      ]
     },
     "execution_count": 11,
     "metadata": {},
     "output_type": "execute_result"
    }
   ],
   "source": [
    "model = RandomForestRegressor(n_estimators=100, random_state=42)\n",
    "model.fit(X_train, y_train)"
   ]
  },
  {
   "cell_type": "code",
   "execution_count": 12,
   "id": "91d90b49",
   "metadata": {},
   "outputs": [],
   "source": [
    "predictions = model.predict(X_test)"
   ]
  },
  {
   "cell_type": "code",
   "execution_count": 13,
   "id": "6ab37cc8",
   "metadata": {},
   "outputs": [],
   "source": [
    "mse = mean_squared_error(y_test, predictions)\n",
    "r2 = r2_score(y_test, predictions)\n"
   ]
  },
  {
   "cell_type": "code",
   "execution_count": 16,
   "id": "88bc0e98",
   "metadata": {},
   "outputs": [],
   "source": [
    "st.subheader(\" Model Performance\")\n",
    "st.write(f\"**Mean Squared Error:** {mse:.2f}\")\n",
    "st.write(f\"**R² Score:** {r2:.2f}\")"
   ]
  },
  {
   "cell_type": "code",
   "execution_count": 21,
   "id": "fabe6204",
   "metadata": {
    "scrolled": true
   },
   "outputs": [
    {
     "data": {
      "text/plain": [
       "DeltaGenerator(_root_container=0, _provided_cursor=None, _parent=None, _block_type=None, _form_data=None)"
      ]
     },
     "execution_count": 21,
     "metadata": {},
     "output_type": "execute_result"
    }
   ],
   "source": [
    "\n",
    "plot_df = pd.DataFrame({\"Actual\": y_test.values.ravel(),\"Predicted\": predictions.ravel()}).reset_index(drop=True)\n",
    "st.line_chart(plot_df)"
   ]
  },
  {
   "cell_type": "code",
   "execution_count": 22,
   "id": "5cf1a1e7",
   "metadata": {},
   "outputs": [
    {
     "data": {
      "text/plain": [
       "False"
      ]
     },
     "execution_count": 22,
     "metadata": {},
     "output_type": "execute_result"
    }
   ],
   "source": [
    "csv = plot_df.to_csv(index=False).encode('utf-8')\n",
    "st.download_button(label=\"Download Prediction CSV\",data=csv,file_name=\"tokyo_stock_predictions.csv\",mime=\"text/csv\")"
   ]
  },
  {
   "cell_type": "code",
   "execution_count": 23,
   "id": "8ce54a4f",
   "metadata": {},
   "outputs": [
    {
     "data": {
      "text/plain": [
       "DeltaGenerator(_root_container=0, _provided_cursor=None, _parent=None, _block_type=None, _form_data=None)"
      ]
     },
     "execution_count": 23,
     "metadata": {},
     "output_type": "execute_result"
    }
   ],
   "source": [
    "st.markdown(\"---\")\n",
    "st.markdown(\"Made with using [Streamlit](https://streamlit.io/) and [Yahoo Finance](https://finance.yahoo.com/)\")"
   ]
  },
  {
   "cell_type": "code",
   "execution_count": null,
   "id": "5a622ded",
   "metadata": {},
   "outputs": [],
   "source": []
  }
 ],
 "metadata": {
  "kernelspec": {
   "display_name": "Python 3 (ipykernel)",
   "language": "python",
   "name": "python3"
  },
  "language_info": {
   "codemirror_mode": {
    "name": "ipython",
    "version": 3
   },
   "file_extension": ".py",
   "mimetype": "text/x-python",
   "name": "python",
   "nbconvert_exporter": "python",
   "pygments_lexer": "ipython3",
   "version": "3.9.7"
  }
 },
 "nbformat": 4,
 "nbformat_minor": 5
}
